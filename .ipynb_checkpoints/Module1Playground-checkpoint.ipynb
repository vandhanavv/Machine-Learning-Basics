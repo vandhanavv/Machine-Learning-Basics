{
 "cells": [
  {
   "cell_type": "code",
   "execution_count": 17,
   "id": "d2d98a27",
   "metadata": {},
   "outputs": [],
   "source": [
    "import os\n",
    "import shutil\n",
    "import ast\n",
    "import pandas as pd\n",
    "import csv\n",
    "import string"
   ]
  },
  {
   "cell_type": "code",
   "execution_count": 18,
   "id": "b1e198b5",
   "metadata": {},
   "outputs": [],
   "source": [
    "f1 = open(\"Data/Positive_Reviews.txt\", \"r\")\n",
    "r1 = f1.read()\n",
    "r1 = ast.literal_eval(r1)\n",
    "f2 = open(\"Data/Negative_Reviews.txt\", \"r\")\n",
    "r2 = f2.read()\n",
    "r2 = ast.literal_eval(r2)"
   ]
  },
  {
   "cell_type": "code",
   "execution_count": 19,
   "id": "21b12b9b",
   "metadata": {},
   "outputs": [],
   "source": [
    "dir_names = ['pos', 'neg']\n",
    "try:\n",
    "    for i in dir_names:\n",
    "        os.mkdir(i)\n",
    "except FileExistsError:\n",
    "    pass"
   ]
  },
  {
   "cell_type": "code",
   "execution_count": 20,
   "id": "2872ad96",
   "metadata": {},
   "outputs": [],
   "source": [
    "src_path = \"Data/Reviews/\"\n",
    "dest_path1 = \"pos/\"\n",
    "dest_path2 = \"neg/\"\n",
    "try:\n",
    "    for i in r1:\n",
    "        new_src_path = src_path + i\n",
    "        new_dest_path1 = dest_path1 + i\n",
    "        shutil.move(new_src_path, new_dest_path1)\n",
    "except FileNotFoundError:\n",
    "    pass\n",
    "try:\n",
    "    for i in r2:\n",
    "        new_src_path = src_path + i\n",
    "        new_dest_path2 = dest_path2 + i\n",
    "        shutil.move(new_src_path, new_dest_path2)\n",
    "except FileNotFoundError:\n",
    "    pass"
   ]
  },
  {
   "cell_type": "code",
   "execution_count": 34,
   "id": "13ed1cf7",
   "metadata": {},
   "outputs": [
    {
     "name": "stdout",
     "output_type": "stream",
     "text": [
      "[['films', 'adapted', 'from', 'comic', 'books', 'have', 'had', 'plenty', 'of', 'success'], ['for', 'starters'], ['to', 'say', 'moore', 'and', 'campbell', 'thoroughly', 'researched', 'the', 'subject', 'of', 'jack', 'the', 'ripper', 'would', 'be', 'like', 'saying', 'michael', 'jackson', 'is', 'starting', 'to', 'look', 'a', 'little', 'odd'], ['the', 'book', 'or', 'graphic', 'novel'], ['in', 'other', 'words'], ['if', 'you', 'can', 'get', 'past', 'the', 'whole', 'comic', 'book', 'thing'], ['getting', 'the', 'hughes', 'brothers', 'to', 'direct', 'this', 'seems', 'almost', 'as', 'ludicrous', 'as', 'casting', 'carrot', 'top', 'in'], ['the', 'ghetto', 'in', 'question', 'is'], ['its', 'a', 'filthy'], ['when', 'the', 'first', 'stiff', 'turns', 'up'], ['abberline'], ['upon', 'arriving', 'in', 'whitechapel'], ['i', 'dont', 'think', 'anyone', 'needs', 'to', 'be', 'briefed', 'on', 'jack', 'the', 'ripper'], ['in', 'the', 'comic'], ['its', 'funny', 'to', 'watch', 'the', 'locals', 'blindly', 'point', 'the', 'finger', 'of', 'blame', 'at', 'jews', 'and', 'indians', 'because'], ['and', 'from', 'hells', 'ending', 'had', 'me', 'whistling', 'the', 'stonecutters', 'song', 'from', 'the', 'simpsons', 'for', 'days', 'who', 'holds', 'back', 'the', 'electric', 'carwho', 'made', 'steve', 'guttenberg', 'a', 'star'], ['dont', 'worry', 'itll', 'all', 'make', 'sense', 'when', 'you', 'see', 'it'], ['now', 'onto', 'from', 'hells', 'appearance', 'its', 'certainly', 'dark', 'and', 'bleak', 'enough'], ['the', 'print', 'i', 'saw', 'wasnt', 'completely', 'finished', 'both', 'color', 'and', 'music', 'had', 'not', 'been', 'finalized'], ['oscar', 'winner', 'martin', 'childs', 'shakespeare', 'in', 'love', 'production', 'design', 'turns', 'the', 'original', 'prague', 'surroundings', 'into', 'one', 'creepy', 'place'], ['even', 'the', 'acting', 'in', 'from', 'hell', 'is', 'solid'], ['ians', 'holm', 'joe', 'goulds', 'secret', 'and', 'richardson', '102', 'dalmatians', 'log', 'in', 'great', 'supporting', 'roles'], ['i', 'cringed', 'the', 'first', 'time', 'she', 'opened', 'her', 'mouth'], ['the', 'film'], ['2', '00', 'r', 'for', 'strong', 'violencegore']]\n",
      "films\n"
     ]
    }
   ],
   "source": [
    "arr = []\n",
    "with open('pos/cv000_29590.txt', 'r') as f:\n",
    "    text = csv.reader(f)\n",
    "    for lines in text:\n",
    "        arr.append(lines[0])\n",
    "# # Split the text into lines\n",
    "# lines = text.splitlines()\n",
    "# # print(lines[0])\n",
    "\n",
    "# # Create a pandas DataFrame from the lines\n",
    "# df = pd.DataFrame({'paragraph': lines})\n",
    "\n",
    "# # Save the DataFrame as a CSV file\n",
    "# df.to_csv('cv000_29590.csv', index=False)\n",
    "# df = pd.read_csv(\"cv000_29590.csv\")\n",
    "# df\n",
    "arr1 = []\n",
    "for text in arr:\n",
    "    test_str = text.translate(str.maketrans('', '', string.punctuation))\n",
    "    arr1.append(test_str)\n",
    "\n",
    "# for i in len(range(arr1)):\n",
    "#     print(arr1[0])\n",
    "\n",
    "arr2 = []\n",
    "for i in range(len(arr1)):\n",
    "    arr2.append(arr1[i].split())\n",
    "print(arr2)"
   ]
  },
  {
   "cell_type": "code",
   "execution_count": 35,
   "id": "f1fa1d15",
   "metadata": {},
   "outputs": [
    {
     "name": "stdout",
     "output_type": "stream",
     "text": [
      "242\n"
     ]
    }
   ],
   "source": [
    "count = 0\n",
    "for i in range(len(arr2)):\n",
    "    count = count + len(arr2[i])\n",
    "print(count)"
   ]
  },
  {
   "cell_type": "code",
   "execution_count": 36,
   "id": "971aba38",
   "metadata": {},
   "outputs": [
    {
     "name": "stdout",
     "output_type": "stream",
     "text": [
      "['films', 'adapted', 'from', 'comic', 'books', 'have', 'had', 'plenty', 'of', 'success', 'for', 'starters', 'to', 'say', 'moore', 'and', 'campbell', 'thoroughly', 'researched', 'the', 'subject', 'of', 'jack', 'the', 'ripper', 'would', 'be', 'like', 'saying', 'michael', 'jackson', 'is', 'starting', 'to', 'look', 'a', 'little', 'odd', 'the', 'book', 'or', 'graphic', 'novel', 'in', 'other', 'words', 'if', 'you', 'can', 'get', 'past', 'the', 'whole', 'comic', 'book', 'thing', 'getting', 'the', 'hughes', 'brothers', 'to', 'direct', 'this', 'seems', 'almost', 'as', 'ludicrous', 'as', 'casting', 'carrot', 'top', 'in', 'the', 'ghetto', 'in', 'question', 'is', 'its', 'a', 'filthy', 'when', 'the', 'first', 'stiff', 'turns', 'up', 'abberline', 'upon', 'arriving', 'in', 'whitechapel', 'i', 'dont', 'think', 'anyone', 'needs', 'to', 'be', 'briefed', 'on', 'jack', 'the', 'ripper', 'in', 'the', 'comic', 'its', 'funny', 'to', 'watch', 'the', 'locals', 'blindly', 'point', 'the', 'finger', 'of', 'blame', 'at', 'jews', 'and', 'indians', 'because', 'and', 'from', 'hells', 'ending', 'had', 'me', 'whistling', 'the', 'stonecutters', 'song', 'from', 'the', 'simpsons', 'for', 'days', 'who', 'holds', 'back', 'the', 'electric', 'carwho', 'made', 'steve', 'guttenberg', 'a', 'star', 'dont', 'worry', 'itll', 'all', 'make', 'sense', 'when', 'you', 'see', 'it', 'now', 'onto', 'from', 'hells', 'appearance', 'its', 'certainly', 'dark', 'and', 'bleak', 'enough', 'the', 'print', 'i', 'saw', 'wasnt', 'completely', 'finished', 'both', 'color', 'and', 'music', 'had', 'not', 'been', 'finalized', 'oscar', 'winner', 'martin', 'childs', 'shakespeare', 'in', 'love', 'production', 'design', 'turns', 'the', 'original', 'prague', 'surroundings', 'into', 'one', 'creepy', 'place', 'even', 'the', 'acting', 'in', 'from', 'hell', 'is', 'solid', 'ians', 'holm', 'joe', 'goulds', 'secret', 'and', 'richardson', '102', 'dalmatians', 'log', 'in', 'great', 'supporting', 'roles', 'i', 'cringed', 'the', 'first', 'time', 'she', 'opened', 'her', 'mouth', 'the', 'film', '2', '00', 'r', 'for', 'strong', 'violencegore']\n"
     ]
    }
   ],
   "source": [
    "arr3 = []\n",
    "for i in range(len(arr2)):\n",
    "    for j in range(len(arr2[i])):\n",
    "        arr3.append(arr2[i][j])\n",
    "print(arr3)"
   ]
  },
  {
   "cell_type": "code",
   "execution_count": 41,
   "id": "3dc621ca",
   "metadata": {},
   "outputs": [
    {
     "name": "stdout",
     "output_type": "stream",
     "text": [
      "177\n"
     ]
    }
   ],
   "source": [
    "unique_set = set(arr3)\n",
    "unique_list = list(unique_set)\n",
    "print(len(unique_list))"
   ]
  }
 ],
 "metadata": {
  "kernelspec": {
   "display_name": "Python 3 (ipykernel)",
   "language": "python",
   "name": "python3"
  },
  "language_info": {
   "codemirror_mode": {
    "name": "ipython",
    "version": 3
   },
   "file_extension": ".py",
   "mimetype": "text/x-python",
   "name": "python",
   "nbconvert_exporter": "python",
   "pygments_lexer": "ipython3",
   "version": "3.10.9"
  }
 },
 "nbformat": 4,
 "nbformat_minor": 5
}
